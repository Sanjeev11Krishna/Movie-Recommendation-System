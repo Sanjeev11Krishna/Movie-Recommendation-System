{
  "cells": [
    {
      "cell_type": "code",
      "execution_count": 1,
      "metadata": {
        "id": "hqPOduMVzyzH"
      },
      "outputs": [],
      "source": [
        "import pandas as pd\n",
        "import seaborn as sns\n",
        "import numpy as np\n",
        "import matplotlib.pyplot as plt\n",
        "from sklearn.preprocessing import LabelEncoder, OneHotEncoder, StandardScaler, MinMaxScaler\n",
        "from sklearn.decomposition import PCA\n",
        "from sklearn.preprocessing import PolynomialFeatures"
      ]
    },
    {
      "cell_type": "markdown",
      "metadata": {
        "id": "YksQO_1_0tCX"
      },
      "source": [
        "**LOADING THE DATASET**"
      ]
    },
    {
      "cell_type": "code",
      "execution_count": 2,
      "metadata": {
        "id": "1rQUVgZs05ar"
      },
      "outputs": [],
      "source": [
        "movies = pd.read_csv('movies.csv')\n",
        "ratings = pd.read_csv('ratings.csv')\n",
        "tags = pd.read_csv('tags.csv')"
      ]
    },
    {
      "cell_type": "markdown",
      "metadata": {
        "id": "dvkIMxvU1N-c"
      },
      "source": [
        "**INSPECTING THE DATA**"
      ]
    },
    {
      "cell_type": "code",
      "execution_count": 3,
      "metadata": {
        "colab": {
          "base_uri": "https://localhost:8080/"
        },
        "id": "_O28ta9d1K-d",
        "outputId": "aaac04fa-ffce-4418-bda6-bf7fa4575e3b"
      },
      "outputs": [
        {
          "name": "stdout",
          "output_type": "stream",
          "text": [
            "   movieId                               title  \\\n",
            "0        1                    Toy Story (1995)   \n",
            "1        2                      Jumanji (1995)   \n",
            "2        3             Grumpier Old Men (1995)   \n",
            "3        4            Waiting to Exhale (1995)   \n",
            "4        5  Father of the Bride Part II (1995)   \n",
            "\n",
            "                                        genres  \n",
            "0  Adventure|Animation|Children|Comedy|Fantasy  \n",
            "1                   Adventure|Children|Fantasy  \n",
            "2                               Comedy|Romance  \n",
            "3                         Comedy|Drama|Romance  \n",
            "4                                       Comedy  \n",
            "   userId  movieId  rating  timestamp\n",
            "0       1        1     4.0  964982703\n",
            "1       1        3     4.0  964981247\n",
            "2       1        6     4.0  964982224\n",
            "3       1       47     5.0  964983815\n",
            "4       1       50     5.0  964982931\n",
            "   userId  movieId              tag   timestamp\n",
            "0       2    60756            funny  1445714994\n",
            "1       2    60756  Highly quotable  1445714996\n",
            "2       2    60756     will ferrell  1445714992\n",
            "3       2    89774     Boxing story  1445715207\n",
            "4       2    89774              MMA  1445715200\n"
          ]
        }
      ],
      "source": [
        "print(movies.head())\n",
        "print(ratings.head())\n",
        "print(tags.head())"
      ]
    },
    {
      "cell_type": "markdown",
      "metadata": {
        "id": "1C0dYc0d1oZ2"
      },
      "source": [
        "**HANDLING THE MISSING VALUES**"
      ]
    },
    {
      "cell_type": "code",
      "execution_count": 4,
      "metadata": {
        "colab": {
          "base_uri": "https://localhost:8080/"
        },
        "id": "DP4cyLJO1fzq",
        "outputId": "1a80e178-2454-404e-f3a2-f8a4d035ffd9"
      },
      "outputs": [
        {
          "name": "stdout",
          "output_type": "stream",
          "text": [
            "Missing values in movies:\n",
            " movieId    0\n",
            "title      0\n",
            "genres     0\n",
            "dtype: int64\n",
            "Missing values in ratings:\n",
            " userId       0\n",
            "movieId      0\n",
            "rating       0\n",
            "timestamp    0\n",
            "dtype: int64\n",
            "Missing values in tags:\n",
            " userId       0\n",
            "movieId      0\n",
            "tag          0\n",
            "timestamp    0\n",
            "dtype: int64\n"
          ]
        }
      ],
      "source": [
        "print(\"Missing values in movies:\\n\", movies.isnull().sum())\n",
        "print(\"Missing values in ratings:\\n\", ratings.isnull().sum())\n",
        "print(\"Missing values in tags:\\n\", tags.isnull().sum())"
      ]
    },
    {
      "cell_type": "markdown",
      "metadata": {
        "id": "gyzdxwPm1vM9"
      },
      "source": [
        "**HANDLING DUPLICATE RECORDS**"
      ]
    },
    {
      "cell_type": "code",
      "execution_count": 5,
      "metadata": {
        "colab": {
          "base_uri": "https://localhost:8080/"
        },
        "id": "2fQc2-MT1kQP",
        "outputId": "3b215c4c-d65c-4fe5-ff2c-3d68bbfe23a4"
      },
      "outputs": [
        {
          "name": "stdout",
          "output_type": "stream",
          "text": [
            "Duplicates in ratings:  0\n",
            "Duplicates in tags:  0\n"
          ]
        }
      ],
      "source": [
        "print(\"Duplicates in ratings: \", ratings.duplicated().sum())\n",
        "print(\"Duplicates in tags: \", tags.duplicated().sum())"
      ]
    },
    {
      "cell_type": "markdown",
      "metadata": {
        "id": "cw6UbJC62Nlm"
      },
      "source": [
        "**DETECTING AND TREATING OUTLIERS**"
      ]
    },
    {
      "cell_type": "code",
      "execution_count": 6,
      "metadata": {
        "colab": {
          "base_uri": "https://localhost:8080/",
          "height": 483
        },
        "id": "wrmFMh8s2LQq",
        "outputId": "7a566a08-37b1-4edd-8baf-d368bd76f6a7"
      },
      "outputs": [
        {
          "data": {
            "image/png": "[encoded data removed]",
            "text/plain": [
              "<Figure size 640x480 with 1 Axes>"
            ]
          },
          "metadata": {},
          "output_type": "display_data"
        }
      ],
      "source": [
        "sns.boxplot(x = ratings['rating'])\n",
        "plt.title('Rating Distribution')\n",
        "plt.show()"
      ]
    },
    {
      "cell_type": "markdown",
      "metadata": {
        "id": "QZnyDrfK2wAN"
      },
      "source": [
        "**CONVERTING DATA TYPES AND ENSURING CONSISTENCY**"
      ]
    },
    {
      "cell_type": "code",
      "execution_count": 7,
      "metadata": {
        "id": "V5ij71c_2qQ8"
      },
      "outputs": [],
      "source": [
        "ratings['timestamp'] = pd.to_datetime(ratings['timestamp'], unit = 's')\n",
        "tags['timestamp'] = pd.to_datetime(tags['timestamp'], unit = 's')"
      ]
    },
    {
      "cell_type": "code",
      "execution_count": 8,
      "metadata": {
        "colab": {
          "base_uri": "https://localhost:8080/"
        },
        "id": "DIqWNaGXMY-Z",
        "outputId": "a5b85c01-bdfa-42f1-ca64-c8e9a810239b"
      },
      "outputs": [
        {
          "name": "stdout",
          "output_type": "stream",
          "text": [
            "0        2000-07-30 18:45:03\n",
            "1        2000-07-30 18:20:47\n",
            "2        2000-07-30 18:37:04\n",
            "3        2000-07-30 19:03:35\n",
            "4        2000-07-30 18:48:51\n",
            "                 ...        \n",
            "100831   2017-05-03 21:53:22\n",
            "100832   2017-05-03 22:21:31\n",
            "100833   2017-05-08 19:50:47\n",
            "100834   2017-05-03 21:19:12\n",
            "100835   2017-05-03 21:20:15\n",
            "Name: timestamp, Length: 100836, dtype: datetime64[ns]\n",
            "0      2015-10-24 19:29:54\n",
            "1      2015-10-24 19:29:56\n",
            "2      2015-10-24 19:29:52\n",
            "3      2015-10-24 19:33:27\n",
            "4      2015-10-24 19:33:20\n",
            "               ...        \n",
            "3678   2007-02-11 22:46:59\n",
            "3679   2007-03-08 22:18:54\n",
            "3680   2017-05-03 20:39:44\n",
            "3681   2017-05-03 20:39:38\n",
            "3682   2017-05-03 20:44:30\n",
            "Name: timestamp, Length: 3683, dtype: datetime64[ns]\n"
          ]
        }
      ],
      "source": [
        "print(ratings['timestamp'])\n",
        "print(tags['timestamp'])"
      ]
    },
    {
      "cell_type": "markdown",
      "metadata": {
        "id": "hZhkp5Rf3tIc"
      },
      "source": [
        "**ENCODING CATEGORICAL VARIABLES**"
      ]
    },
    {
      "cell_type": "code",
      "execution_count": 9,
      "metadata": {
        "id": "Ix-iKJfw3HeY"
      },
      "outputs": [],
      "source": [
        "# Split genres into lists\n",
        "movies['genres'] = movies['genres'].apply(lambda x: x.split('|'))\n",
        "\n",
        "# Create one-hot encoding for genres\n",
        "all_genres = sorted(list({genre for sublist in movies['genres'] for genre in sublist}))\n",
        "for genre in all_genres:\n",
        "    movies[genre] = movies['genres'].apply(lambda x: int(genre in x))"
      ]
    },
    {
      "cell_type": "code",
      "execution_count": 10,
      "metadata": {
        "colab": {
          "base_uri": "https://localhost:8080/"
        },
        "id": "7VSfcYh_M600",
        "outputId": "6f50ba25-60f0-410d-be57-8f37a391dda5"
      },
      "outputs": [
        {
          "name": "stdout",
          "output_type": "stream",
          "text": [
            "      movieId                                      title  \\\n",
            "0           1                           Toy Story (1995)   \n",
            "1           2                             Jumanji (1995)   \n",
            "2           3                    Grumpier Old Men (1995)   \n",
            "3           4                   Waiting to Exhale (1995)   \n",
            "4           5         Father of the Bride Part II (1995)   \n",
            "...       ...                                        ...   \n",
            "9737   193581  Black Butler: Book of the Atlantic (2017)   \n",
            "9738   193583               No Game No Life: Zero (2017)   \n",
            "9739   193585                               Flint (2017)   \n",
            "9740   193587        Bungo Stray Dogs: Dead Apple (2018)   \n",
            "9741   193609        Andrew Dice Clay: Dice Rules (1991)   \n",
            "\n",
            "                                                 genres  (no genres listed)  \\\n",
            "0     [Adventure, Animation, Children, Comedy, Fantasy]                   0   \n",
            "1                        [Adventure, Children, Fantasy]                   0   \n",
            "2                                     [Comedy, Romance]                   0   \n",
            "3                              [Comedy, Drama, Romance]                   0   \n",
            "4                                              [Comedy]                   0   \n",
            "...                                                 ...                 ...   \n",
            "9737               [Action, Animation, Comedy, Fantasy]                   0   \n",
            "9738                       [Animation, Comedy, Fantasy]                   0   \n",
            "9739                                            [Drama]                   0   \n",
            "9740                                [Action, Animation]                   0   \n",
            "9741                                           [Comedy]                   0   \n",
            "\n",
            "      Action  Adventure  Animation  Children  Comedy  Crime  ...  Film-Noir  \\\n",
            "0          0          1          1         1       1      0  ...          0   \n",
            "1          0          1          0         1       0      0  ...          0   \n",
            "2          0          0          0         0       1      0  ...          0   \n",
            "3          0          0          0         0       1      0  ...          0   \n",
            "4          0          0          0         0       1      0  ...          0   \n",
            "...      ...        ...        ...       ...     ...    ...  ...        ...   \n",
            "9737       1          0          1         0       1      0  ...          0   \n",
            "9738       0          0          1         0       1      0  ...          0   \n",
            "9739       0          0          0         0       0      0  ...          0   \n",
            "9740       1          0          1         0       0      0  ...          0   \n",
            "9741       0          0          0         0       1      0  ...          0   \n",
            "\n",
            "      Horror  IMAX  Musical  Mystery  Romance  Sci-Fi  Thriller  War  Western  \n",
            "0          0     0        0        0        0       0         0    0        0  \n",
            "1          0     0        0        0        0       0         0    0        0  \n",
            "2          0     0        0        0        1       0         0    0        0  \n",
            "3          0     0        0        0        1       0         0    0        0  \n",
            "4          0     0        0        0        0       0         0    0        0  \n",
            "...      ...   ...      ...      ...      ...     ...       ...  ...      ...  \n",
            "9737       0     0        0        0        0       0         0    0        0  \n",
            "9738       0     0        0        0        0       0         0    0        0  \n",
            "9739       0     0        0        0        0       0         0    0        0  \n",
            "9740       0     0        0        0        0       0         0    0        0  \n",
            "9741       0     0        0        0        0       0         0    0        0  \n",
            "\n",
            "[9742 rows x 23 columns]\n"
          ]
        }
      ],
      "source": [
        "print(movies)"
      ]
    },
    {
      "cell_type": "markdown",
      "metadata": {
        "id": "pgROF4Zv40iI"
      },
      "source": [
        "**NORMALIZING AND STANDARDIZING FEATURES**"
      ]
    },
    {
      "cell_type": "code",
      "execution_count": 11,
      "metadata": {
        "id": "zQ-81Vlp4r6K"
      },
      "outputs": [],
      "source": [
        "#count ratings per movie\n",
        "movie_rating_counts = ratings.groupby('movieId').size().reset_index(name = 'rating_count')\n",
        "\n",
        "#Normalizing rating counts\n",
        "scaler = MinMaxScaler()\n",
        "movie_rating_counts['rating_count_normalized'] = scaler.fit_transform(movie_rating_counts[['rating_count']])"
      ]
    },
    {
      "cell_type": "code",
      "execution_count": 12,
      "metadata": {
        "colab": {
          "base_uri": "https://localhost:8080/"
        },
        "id": "Y6R6myopNIU_",
        "outputId": "90eb27c5-5b35-4011-d3f2-3002d0fff2c3"
      },
      "outputs": [
        {
          "name": "stdout",
          "output_type": "stream",
          "text": [
            "      movieId  rating_count  rating_count_normalized\n",
            "0           1           215                 0.652439\n",
            "1           2           110                 0.332317\n",
            "2           3            52                 0.155488\n",
            "3           4             7                 0.018293\n",
            "4           5            49                 0.146341\n",
            "...       ...           ...                      ...\n",
            "9719   193581             1                 0.000000\n",
            "9720   193583             1                 0.000000\n",
            "9721   193585             1                 0.000000\n",
            "9722   193587             1                 0.000000\n",
            "9723   193609             1                 0.000000\n",
            "\n",
            "[9724 rows x 3 columns]\n"
          ]
        }
      ],
      "source": [
        "print(movie_rating_counts)"
      ]
    },
    {
      "cell_type": "markdown",
      "metadata": {
        "id": "nr9lBv3P5g_s"
      },
      "source": [
        "**MERGING DATASETS**"
      ]
    },
    {
      "cell_type": "code",
      "execution_count": 13,
      "metadata": {
        "id": "KULCZell5fnG"
      },
      "outputs": [],
      "source": [
        "movies = movies.merge(movie_rating_counts, on='movieId', how='left')\n",
        "ratings = ratings.merge(movies[['movieId', 'title']], on='movieId', how='left')"
      ]
    },
    {
      "cell_type": "code",
      "execution_count": 14,
      "metadata": {
        "colab": {
          "base_uri": "https://localhost:8080/"
        },
        "id": "_RAbQwvgNoUD",
        "outputId": "1babbc24-40e6-43c3-bba5-d2e3e5a55608"
      },
      "outputs": [
        {
          "name": "stdout",
          "output_type": "stream",
          "text": [
            "      movieId                                      title  \\\n",
            "0           1                           Toy Story (1995)   \n",
            "1           2                             Jumanji (1995)   \n",
            "2           3                    Grumpier Old Men (1995)   \n",
            "3           4                   Waiting to Exhale (1995)   \n",
            "4           5         Father of the Bride Part II (1995)   \n",
            "...       ...                                        ...   \n",
            "9737   193581  Black Butler: Book of the Atlantic (2017)   \n",
            "9738   193583               No Game No Life: Zero (2017)   \n",
            "9739   193585                               Flint (2017)   \n",
            "9740   193587        Bungo Stray Dogs: Dead Apple (2018)   \n",
            "9741   193609        Andrew Dice Clay: Dice Rules (1991)   \n",
            "\n",
            "                                                 genres  (no genres listed)  \\\n",
            "0     [Adventure, Animation, Children, Comedy, Fantasy]                   0   \n",
            "1                        [Adventure, Children, Fantasy]                   0   \n",
            "2                                     [Comedy, Romance]                   0   \n",
            "3                              [Comedy, Drama, Romance]                   0   \n",
            "4                                              [Comedy]                   0   \n",
            "...                                                 ...                 ...   \n",
            "9737               [Action, Animation, Comedy, Fantasy]                   0   \n",
            "9738                       [Animation, Comedy, Fantasy]                   0   \n",
            "9739                                            [Drama]                   0   \n",
            "9740                                [Action, Animation]                   0   \n",
            "9741                                           [Comedy]                   0   \n",
            "\n",
            "      Action  Adventure  Animation  Children  Comedy  Crime  ...  IMAX  \\\n",
            "0          0          1          1         1       1      0  ...     0   \n",
            "1          0          1          0         1       0      0  ...     0   \n",
            "2          0          0          0         0       1      0  ...     0   \n",
            "3          0          0          0         0       1      0  ...     0   \n",
            "4          0          0          0         0       1      0  ...     0   \n",
            "...      ...        ...        ...       ...     ...    ...  ...   ...   \n",
            "9737       1          0          1         0       1      0  ...     0   \n",
            "9738       0          0          1         0       1      0  ...     0   \n",
            "9739       0          0          0         0       0      0  ...     0   \n",
            "9740       1          0          1         0       0      0  ...     0   \n",
            "9741       0          0          0         0       1      0  ...     0   \n",
            "\n",
            "      Musical  Mystery  Romance  Sci-Fi  Thriller  War  Western  rating_count  \\\n",
            "0           0        0        0       0         0    0        0         215.0   \n",
            "1           0        0        0       0         0    0        0         110.0   \n",
            "2           0        0        1       0         0    0        0          52.0   \n",
            "3           0        0        1       0         0    0        0           7.0   \n",
            "4           0        0        0       0         0    0        0          49.0   \n",
            "...       ...      ...      ...     ...       ...  ...      ...           ...   \n",
            "9737        0        0        0       0         0    0        0           1.0   \n",
            "9738        0        0        0       0         0    0        0           1.0   \n",
            "9739        0        0        0       0         0    0        0           1.0   \n",
            "9740        0        0        0       0         0    0        0           1.0   \n",
            "9741        0        0        0       0         0    0        0           1.0   \n",
            "\n",
            "      rating_count_normalized  \n",
            "0                    0.652439  \n",
            "1                    0.332317  \n",
            "2                    0.155488  \n",
            "3                    0.018293  \n",
            "4                    0.146341  \n",
            "...                       ...  \n",
            "9737                 0.000000  \n",
            "9738                 0.000000  \n",
            "9739                 0.000000  \n",
            "9740                 0.000000  \n",
            "9741                 0.000000  \n",
            "\n",
            "[9742 rows x 25 columns]\n",
            "        userId  movieId  rating           timestamp  \\\n",
            "0            1        1     4.0 2000-07-30 18:45:03   \n",
            "1            1        3     4.0 2000-07-30 18:20:47   \n",
            "2            1        6     4.0 2000-07-30 18:37:04   \n",
            "3            1       47     5.0 2000-07-30 19:03:35   \n",
            "4            1       50     5.0 2000-07-30 18:48:51   \n",
            "...        ...      ...     ...                 ...   \n",
            "100831     610   166534     4.0 2017-05-03 21:53:22   \n",
            "100832     610   168248     5.0 2017-05-03 22:21:31   \n",
            "100833     610   168250     5.0 2017-05-08 19:50:47   \n",
            "100834     610   168252     5.0 2017-05-03 21:19:12   \n",
            "100835     610   170875     3.0 2017-05-03 21:20:15   \n",
            "\n",
            "                                 title  \n",
            "0                     Toy Story (1995)  \n",
            "1              Grumpier Old Men (1995)  \n",
            "2                          Heat (1995)  \n",
            "3          Seven (a.k.a. Se7en) (1995)  \n",
            "4           Usual Suspects, The (1995)  \n",
            "...                                ...  \n",
            "100831                    Split (2017)  \n",
            "100832   John Wick: Chapter Two (2017)  \n",
            "100833                  Get Out (2017)  \n",
            "100834                    Logan (2017)  \n",
            "100835  The Fate of the Furious (2017)  \n",
            "\n",
            "[100836 rows x 5 columns]\n"
          ]
        }
      ],
      "source": [
        "print(movies)\n",
        "print(ratings)"
      ]
    },
    {
      "cell_type": "markdown",
      "metadata": {
        "id": "OMhcnOkW0Eln"
      },
      "source": [
        "**UNIVARIATE ANALYSIS**"
      ]
    },
    {
      "cell_type": "code",
      "execution_count": 15,
      "metadata": {
        "colab": {
          "base_uri": "https://localhost:8080/",
          "height": 422
        },
        "id": "2zylolHoNquu",
        "outputId": "b729199f-e134-491d-9278-6ed1fd9de3b3"
      },
      "outputs": [
        {
          "data": {
            "image/png": "[encoded data removed]",
            "text/plain": [
              "<Figure size 600x400 with 1 Axes>"
            ]
          },
          "metadata": {},
          "output_type": "display_data"
        }
      ],
      "source": [
        "#distribution of ratings\n",
        "plt.figure(figsize=(6,4))\n",
        "sns.histplot(data=ratings, x='rating', bins=9, kde=True)\n",
        "plt.title('Distribution of Ratings')\n",
        "plt.xlabel('Rating')\n",
        "plt.ylabel('Count')\n",
        "plt.show()\n"
      ]
    },
    {
      "cell_type": "code",
      "execution_count": 16,
      "metadata": {
        "colab": {
          "base_uri": "https://localhost:8080/",
          "height": 483
        },
        "id": "dF97BzUhm897",
        "outputId": "58d0b11c-6d7c-412b-d7b0-6a4eff974046"
      },
      "outputs": [
        {
          "data": {
            "image/png": "[encoded data removed]",
            "text/plain": [
              "<Figure size 640x480 with 1 Axes>"
            ]
          },
          "metadata": {},
          "output_type": "display_data"
        }
      ],
      "source": [
        "# Count of movies by number of genres\n",
        "movies['genre_count'] = movies['genres'].apply(lambda x: len(x))\n",
        "sns.countplot(x='genre_count', data=movies)\n",
        "plt.title('Number of Genres per Movie')\n",
        "plt.xlabel('Genre Count')\n",
        "plt.ylabel('Number of Movies')\n",
        "plt.show()"
      ]
    },
    {
      "cell_type": "code",
      "execution_count": 17,
      "metadata": {
        "colab": {
          "base_uri": "https://localhost:8080/",
          "height": 422
        },
        "id": "tGBfMS0johr6",
        "outputId": "d46b251c-50c4-4c7b-f85c-f892b08e7654"
      },
      "outputs": [
        {
          "data": {
            "image/png": "[encoded data removed]",
            "text/plain": [
              "<Figure size 800x400 with 1 Axes>"
            ]
          },
          "metadata": {},
          "output_type": "display_data"
        }
      ],
      "source": [
        "##Number of Ratings Per User\n",
        "user_rating_count = ratings['userId'].value_counts()\n",
        "\n",
        "plt.figure(figsize=(8,4))\n",
        "sns.histplot(user_rating_count, bins=30, kde=False)\n",
        "plt.title('Number of Ratings per User')\n",
        "plt.xlabel('Number of Ratings')\n",
        "plt.ylabel('Number of Users')\n",
        "plt.show()\n"
      ]
    },
    {
      "cell_type": "code",
      "execution_count": 18,
      "metadata": {
        "colab": {
          "base_uri": "https://localhost:8080/",
          "height": 497
        },
        "id": "IhSVT1Cto9Jp",
        "outputId": "61e8d763-cada-4fab-c38e-0927fa3248a8"
      },
      "outputs": [
        {
          "data": {
            "image/png": "[encoded data removed]",
            "text/plain": [
              "<Figure size 1000x500 with 1 Axes>"
            ]
          },
          "metadata": {},
          "output_type": "display_data"
        }
      ],
      "source": [
        "##Top 10 Most Rated Movies\n",
        "top_movies = ratings['movieId'].value_counts().head(10)\n",
        "top_movie_titles = movies[movies['movieId'].isin(top_movies.index)]\n",
        "\n",
        "top_movies_df = top_movie_titles.set_index('movieId').loc[top_movies.index]\n",
        "top_movies_df['rating_count'] = top_movies.values\n",
        "\n",
        "plt.figure(figsize=(10,5))\n",
        "sns.barplot(x=top_movies_df['title'], y=top_movies_df['rating_count'])\n",
        "plt.title('Top 10 Most Rated Movies')\n",
        "plt.xlabel('Movie Title')\n",
        "plt.ylabel('Number of Ratings')\n",
        "plt.xticks(rotation=45, ha='right')\n",
        "plt.tight_layout()\n",
        "plt.show()\n"
      ]
    },
    {
      "cell_type": "markdown",
      "metadata": {
        "id": "2dX4JZypuG4S"
      },
      "source": [
        "**BIVARIATE ANALYSIS**"
      ]
    },
    {
      "cell_type": "code",
      "execution_count": 19,
      "metadata": {
        "colab": {
          "base_uri": "https://localhost:8080/",
          "height": 704
        },
        "id": "SpPIMxSEqtJj",
        "outputId": "270d04f2-1dcb-4478-c718-d12e93aa8667"
      },
      "outputs": [
        {
          "name": "stderr",
          "output_type": "stream",
          "text": [
            "C:\\Users\\Gokul\\AppData\\Local\\Temp\\ipykernel_6836\\4210069695.py:22: FutureWarning: \n",
            "\n",
            "Passing `palette` without assigning `hue` is deprecated and will be removed in v0.14.0. Assign the `x` variable to `hue` and set `legend=False` for the same effect.\n",
            "\n",
            "  sns.barplot(x=avg_rating.index, y=avg_rating.values, palette='coolwarm')\n"
          ]
        },
        {
          "data": {
            "image/png": "[encoded data removed]",
            "text/plain": [
              "<Figure size 1000x600 with 1 Axes>"
            ]
          },
          "metadata": {},
          "output_type": "display_data"
        }
      ],
      "source": [
        "# Clean genres and explode\n",
        "movies_clean = movies[movies['genres'].notna()].copy()\n",
        "movies_clean['genres'] = movies_clean['genres'].astype(str).str.split('|')\n",
        "movies_exploded = movies_clean.explode('genres')\n",
        "\n",
        "# Remove \"(no genres listed)\"\n",
        "movies_exploded = movies_exploded[movies_exploded['genres'] != '(no genres listed)']\n",
        "\n",
        "# Merge with ratings\n",
        "genre_ratings = pd.merge(ratings, movies_exploded[['movieId', 'genres']], on='movieId')\n",
        "\n",
        "# Get top 10 genres by rating count\n",
        "top_genres = genre_ratings['genres'].value_counts().nlargest(10).index\n",
        "filtered = genre_ratings[genre_ratings['genres'].isin(top_genres)]\n",
        "\n",
        "# Calculate average rating per genre\n",
        "avg_rating = filtered.groupby('genres')['rating'].mean().sort_values(ascending=False)\n",
        "\n",
        "# Plot bar graph\n",
        "plt.figure(figsize=(10,6))\n",
        "sns.set(style='whitegrid', font_scale=1.1)\n",
        "sns.barplot(x=avg_rating.index, y=avg_rating.values, palette='coolwarm')\n",
        "\n",
        "plt.title('Average Rating of Top 10 Movie Genres', fontsize=14, fontweight='bold')\n",
        "plt.xlabel('Genre', fontsize=12)\n",
        "plt.ylabel('Average Rating', fontsize=12)\n",
        "plt.ylim(0, 5.5)\n",
        "plt.xticks(rotation=45, ha='right')\n",
        "plt.tight_layout()\n",
        "plt.grid(True, axis='y', linestyle='--', alpha=0.5)\n",
        "plt.show()"
      ]
    },
    {
      "cell_type": "code",
      "execution_count": 20,
      "metadata": {
        "colab": {
          "base_uri": "https://localhost:8080/",
          "height": 422
        },
        "id": "kr7Bc4rwtsvD",
        "outputId": "ea533dc8-1f6a-4ae7-bd12-4d2f37491035"
      },
      "outputs": [
        {
          "data": {
            "image/png": "[encoded data removed]",
            "text/plain": [
              "<Figure size 800x400 with 1 Axes>"
            ]
          },
          "metadata": {},
          "output_type": "display_data"
        }
      ],
      "source": [
        "#Time-Based Ratings Trend\n",
        "#Convert timestamp to datetime and visualize trends over time.\n",
        "ratings['datetime'] = pd.to_datetime(ratings['timestamp'], unit='s')\n",
        "ratings['year'] = ratings['datetime'].dt.year\n",
        "\n",
        "ratings_per_year = ratings.groupby('year')['rating'].count()\n",
        "\n",
        "plt.figure(figsize=(8,4))\n",
        "ratings_per_year.plot()\n",
        "plt.title('Number of Ratings Over Years')\n",
        "plt.xlabel('Year')\n",
        "plt.ylabel('Number of Ratings')\n",
        "plt.grid(True)\n",
        "plt.show()\n"
      ]
    },
    {
      "cell_type": "code",
      "execution_count": 21,
      "metadata": {
        "colab": {
          "base_uri": "https://localhost:8080/",
          "height": 499
        },
        "id": "WJ38G916wJDJ",
        "outputId": "e7cd6a45-0d90-4c72-ab4f-cb325954b71d"
      },
      "outputs": [
        {
          "data": {
            "image/png": "[encoded data removed]",
            "text/plain": [
              "<Figure size 800x500 with 1 Axes>"
            ]
          },
          "metadata": {},
          "output_type": "display_data"
        }
      ],
      "source": [
        "#Number of Ratings per Movie\n",
        "movie_rating_count = ratings.groupby('movieId')['rating'].count()\n",
        "plt.figure(figsize=(8,5))\n",
        "sns.histplot(movie_rating_count, bins=50, kde=False)\n",
        "plt.title('Distribution of Number of Ratings per Movie')\n",
        "plt.xlabel('Number of Ratings')\n",
        "plt.ylabel('Number of Movies')\n",
        "plt.show()\n"
      ]
    },
    {
      "cell_type": "code",
      "execution_count": 22,
      "metadata": {
        "colab": {
          "base_uri": "https://localhost:8080/",
          "height": 499
        },
        "id": "5__DjREqwn4K",
        "outputId": "2c7d4f28-0ee2-4a50-beda-8210b8112abe"
      },
      "outputs": [
        {
          "data": {
            "image/png": "[encoded data removed]",
            "text/plain": [
              "<Figure size 800x500 with 1 Axes>"
            ]
          },
          "metadata": {},
          "output_type": "display_data"
        }
      ],
      "source": [
        "#Rating Distribution Per User\n",
        "user_avg_rating = ratings.groupby('userId')['rating'].mean()\n",
        "plt.figure(figsize=(8,5))\n",
        "sns.histplot(user_avg_rating, bins=30, kde=True)\n",
        "plt.title('Distribution of Average Rating Given by Users')\n",
        "plt.xlabel('Average User Rating')\n",
        "plt.ylabel('Number of Users')\n",
        "plt.show()\n"
      ]
    },
    {
      "cell_type": "markdown",
      "metadata": {
        "id": "Nx6DWdGXEIpQ"
      },
      "source": [
        "**FEATURE ENGINEERING**"
      ]
    },
    {
      "cell_type": "markdown",
      "metadata": {
        "id": "ZpXJ7_ksGSnL"
      },
      "source": [
        "**EXTRACTING DATE COMPONENTS FROM TIMESTAMPS**"
      ]
    },
    {
      "cell_type": "code",
      "execution_count": 23,
      "metadata": {
        "id": "cLEhvyweEPgM"
      },
      "outputs": [],
      "source": [
        "ratings['year'] = ratings['timestamp'].dt.year\n",
        "ratings['month'] = ratings['timestamp'].dt.month\n",
        "ratings['days_of_week'] = ratings['timestamp'].dt.dayofweek"
      ]
    },
    {
      "cell_type": "code",
      "execution_count": 24,
      "metadata": {
        "colab": {
          "base_uri": "https://localhost:8080/"
        },
        "id": "i-muwaDXG4ba",
        "outputId": "0ed7df5e-6980-4b18-ca67-310a5046804b"
      },
      "outputs": [
        {
          "name": "stdout",
          "output_type": "stream",
          "text": [
            "        userId  movieId  rating           timestamp  \\\n",
            "0            1        1     4.0 2000-07-30 18:45:03   \n",
            "1            1        3     4.0 2000-07-30 18:20:47   \n",
            "2            1        6     4.0 2000-07-30 18:37:04   \n",
            "3            1       47     5.0 2000-07-30 19:03:35   \n",
            "4            1       50     5.0 2000-07-30 18:48:51   \n",
            "...        ...      ...     ...                 ...   \n",
            "100831     610   166534     4.0 2017-05-03 21:53:22   \n",
            "100832     610   168248     5.0 2017-05-03 22:21:31   \n",
            "100833     610   168250     5.0 2017-05-08 19:50:47   \n",
            "100834     610   168252     5.0 2017-05-03 21:19:12   \n",
            "100835     610   170875     3.0 2017-05-03 21:20:15   \n",
            "\n",
            "                                 title            datetime  year  month  \\\n",
            "0                     Toy Story (1995) 2000-07-30 18:45:03  2000      7   \n",
            "1              Grumpier Old Men (1995) 2000-07-30 18:20:47  2000      7   \n",
            "2                          Heat (1995) 2000-07-30 18:37:04  2000      7   \n",
            "3          Seven (a.k.a. Se7en) (1995) 2000-07-30 19:03:35  2000      7   \n",
            "4           Usual Suspects, The (1995) 2000-07-30 18:48:51  2000      7   \n",
            "...                                ...                 ...   ...    ...   \n",
            "100831                    Split (2017) 2017-05-03 21:53:22  2017      5   \n",
            "100832   John Wick: Chapter Two (2017) 2017-05-03 22:21:31  2017      5   \n",
            "100833                  Get Out (2017) 2017-05-08 19:50:47  2017      5   \n",
            "100834                    Logan (2017) 2017-05-03 21:19:12  2017      5   \n",
            "100835  The Fate of the Furious (2017) 2017-05-03 21:20:15  2017      5   \n",
            "\n",
            "        days_of_week  \n",
            "0                  6  \n",
            "1                  6  \n",
            "2                  6  \n",
            "3                  6  \n",
            "4                  6  \n",
            "...              ...  \n",
            "100831             2  \n",
            "100832             2  \n",
            "100833             0  \n",
            "100834             2  \n",
            "100835             2  \n",
            "\n",
            "[100836 rows x 9 columns]\n"
          ]
        }
      ],
      "source": [
        "print(ratings)"
      ]
    },
    {
      "cell_type": "markdown",
      "metadata": {
        "id": "3-yjoNQYG-jE"
      },
      "source": [
        "**RATING FREQUENCY**"
      ]
    },
    {
      "cell_type": "code",
      "execution_count": 25,
      "metadata": {
        "colab": {
          "base_uri": "https://localhost:8080/"
        },
        "id": "hyb5gRh6G6yV",
        "outputId": "021f69fe-2c83-4d1c-f800-feca18c24ab8"
      },
      "outputs": [
        {
          "name": "stdout",
          "output_type": "stream",
          "text": [
            "        userId  movieId  rating           timestamp  \\\n",
            "0            1        1     4.0 2000-07-30 18:45:03   \n",
            "1            1        3     4.0 2000-07-30 18:20:47   \n",
            "2            1        6     4.0 2000-07-30 18:37:04   \n",
            "3            1       47     5.0 2000-07-30 19:03:35   \n",
            "4            1       50     5.0 2000-07-30 18:48:51   \n",
            "...        ...      ...     ...                 ...   \n",
            "100831     610   166534     4.0 2017-05-03 21:53:22   \n",
            "100832     610   168248     5.0 2017-05-03 22:21:31   \n",
            "100833     610   168250     5.0 2017-05-08 19:50:47   \n",
            "100834     610   168252     5.0 2017-05-03 21:19:12   \n",
            "100835     610   170875     3.0 2017-05-03 21:20:15   \n",
            "\n",
            "                                 title            datetime  year  month  \\\n",
            "0                     Toy Story (1995) 2000-07-30 18:45:03  2000      7   \n",
            "1              Grumpier Old Men (1995) 2000-07-30 18:20:47  2000      7   \n",
            "2                          Heat (1995) 2000-07-30 18:37:04  2000      7   \n",
            "3          Seven (a.k.a. Se7en) (1995) 2000-07-30 19:03:35  2000      7   \n",
            "4           Usual Suspects, The (1995) 2000-07-30 18:48:51  2000      7   \n",
            "...                                ...                 ...   ...    ...   \n",
            "100831                    Split (2017) 2017-05-03 21:53:22  2017      5   \n",
            "100832   John Wick: Chapter Two (2017) 2017-05-03 22:21:31  2017      5   \n",
            "100833                  Get Out (2017) 2017-05-08 19:50:47  2017      5   \n",
            "100834                    Logan (2017) 2017-05-03 21:19:12  2017      5   \n",
            "100835  The Fate of the Furious (2017) 2017-05-03 21:20:15  2017      5   \n",
            "\n",
            "        days_of_week  user_rating_count  movie_rating_count  \n",
            "0                  6                232                 215  \n",
            "1                  6                232                  52  \n",
            "2                  6                232                 102  \n",
            "3                  6                232                 203  \n",
            "4                  6                232                 204  \n",
            "...              ...                ...                 ...  \n",
            "100831             2               1302                   6  \n",
            "100832             2               1302                   7  \n",
            "100833             0               1302                  15  \n",
            "100834             2               1302                  25  \n",
            "100835             2               1302                   3  \n",
            "\n",
            "[100836 rows x 11 columns]\n"
          ]
        }
      ],
      "source": [
        "#Ratings per user\n",
        "user_rating_counts = ratings.groupby('userId').size().reset_index(name = 'user_rating_count')\n",
        "ratings = ratings.merge(user_rating_counts, on = 'userId', how = 'left')\n",
        "\n",
        "#Ratings per movie\n",
        "movie_rating_counts = ratings.groupby('movieId').size().reset_index(name = 'movie_rating_count')\n",
        "ratings = ratings.merge(movie_rating_counts, on = 'movieId', how = 'left')\n",
        "\n",
        "print(ratings)"
      ]
    },
    {
      "cell_type": "markdown",
      "metadata": {
        "id": "mvtmPv4YIrvL"
      },
      "source": [
        "**BINNING USER RATING COUNT**"
      ]
    },
    {
      "cell_type": "code",
      "execution_count": 26,
      "metadata": {
        "colab": {
          "base_uri": "https://localhost:8080/"
        },
        "id": "kglauzjuIvPx",
        "outputId": "d4f1ae97-db92-4178-a8ec-5b93253627aa"
      },
      "outputs": [
        {
          "name": "stdout",
          "output_type": "stream",
          "text": [
            "        userId  movieId  rating           timestamp  \\\n",
            "0            1        1     4.0 2000-07-30 18:45:03   \n",
            "1            1        3     4.0 2000-07-30 18:20:47   \n",
            "2            1        6     4.0 2000-07-30 18:37:04   \n",
            "3            1       47     5.0 2000-07-30 19:03:35   \n",
            "4            1       50     5.0 2000-07-30 18:48:51   \n",
            "...        ...      ...     ...                 ...   \n",
            "100831     610   166534     4.0 2017-05-03 21:53:22   \n",
            "100832     610   168248     5.0 2017-05-03 22:21:31   \n",
            "100833     610   168250     5.0 2017-05-08 19:50:47   \n",
            "100834     610   168252     5.0 2017-05-03 21:19:12   \n",
            "100835     610   170875     3.0 2017-05-03 21:20:15   \n",
            "\n",
            "                                 title            datetime  year  month  \\\n",
            "0                     Toy Story (1995) 2000-07-30 18:45:03  2000      7   \n",
            "1              Grumpier Old Men (1995) 2000-07-30 18:20:47  2000      7   \n",
            "2                          Heat (1995) 2000-07-30 18:37:04  2000      7   \n",
            "3          Seven (a.k.a. Se7en) (1995) 2000-07-30 19:03:35  2000      7   \n",
            "4           Usual Suspects, The (1995) 2000-07-30 18:48:51  2000      7   \n",
            "...                                ...                 ...   ...    ...   \n",
            "100831                    Split (2017) 2017-05-03 21:53:22  2017      5   \n",
            "100832   John Wick: Chapter Two (2017) 2017-05-03 22:21:31  2017      5   \n",
            "100833                  Get Out (2017) 2017-05-08 19:50:47  2017      5   \n",
            "100834                    Logan (2017) 2017-05-03 21:19:12  2017      5   \n",
            "100835  The Fate of the Furious (2017) 2017-05-03 21:20:15  2017      5   \n",
            "\n",
            "        days_of_week  user_rating_count  movie_rating_count  \\\n",
            "0                  6                232                 215   \n",
            "1                  6                232                  52   \n",
            "2                  6                232                 102   \n",
            "3                  6                232                 203   \n",
            "4                  6                232                 204   \n",
            "...              ...                ...                 ...   \n",
            "100831             2               1302                   6   \n",
            "100832             2               1302                   7   \n",
            "100833             0               1302                  15   \n",
            "100834             2               1302                  25   \n",
            "100835             2               1302                   3   \n",
            "\n",
            "       user_activity_level  \n",
            "0                     High  \n",
            "1                     High  \n",
            "2                     High  \n",
            "3                     High  \n",
            "4                     High  \n",
            "...                    ...  \n",
            "100831                High  \n",
            "100832                High  \n",
            "100833                High  \n",
            "100834                High  \n",
            "100835                High  \n",
            "\n",
            "[100836 rows x 12 columns]\n"
          ]
        }
      ],
      "source": [
        "#Bins for users\n",
        "ratings['user_activity_level'] = pd.cut(ratings['user_rating_count'], bins = [0, 50, 200, np.inf], labels = ['Low', 'Medium', 'High'])\n",
        "\n",
        "print(ratings)"
      ]
    },
    {
      "cell_type": "markdown",
      "metadata": {
        "id": "tHlwjj9-JRt0"
      },
      "source": [
        "**GENRE COUNT**"
      ]
    },
    {
      "cell_type": "code",
      "execution_count": 27,
      "metadata": {
        "colab": {
          "base_uri": "https://localhost:8080/"
        },
        "id": "mdtIFgK8HZdM",
        "outputId": "e1396c21-fa79-4488-c503-e3893a3ed2a9"
      },
      "outputs": [
        {
          "name": "stdout",
          "output_type": "stream",
          "text": [
            "      movieId                                      title  \\\n",
            "0           1                           Toy Story (1995)   \n",
            "1           2                             Jumanji (1995)   \n",
            "2           3                    Grumpier Old Men (1995)   \n",
            "3           4                   Waiting to Exhale (1995)   \n",
            "4           5         Father of the Bride Part II (1995)   \n",
            "...       ...                                        ...   \n",
            "9737   193581  Black Butler: Book of the Atlantic (2017)   \n",
            "9738   193583               No Game No Life: Zero (2017)   \n",
            "9739   193585                               Flint (2017)   \n",
            "9740   193587        Bungo Stray Dogs: Dead Apple (2018)   \n",
            "9741   193609        Andrew Dice Clay: Dice Rules (1991)   \n",
            "\n",
            "                                                 genres  (no genres listed)  \\\n",
            "0     [Adventure, Animation, Children, Comedy, Fantasy]                   0   \n",
            "1                        [Adventure, Children, Fantasy]                   0   \n",
            "2                                     [Comedy, Romance]                   0   \n",
            "3                              [Comedy, Drama, Romance]                   0   \n",
            "4                                              [Comedy]                   0   \n",
            "...                                                 ...                 ...   \n",
            "9737               [Action, Animation, Comedy, Fantasy]                   0   \n",
            "9738                       [Animation, Comedy, Fantasy]                   0   \n",
            "9739                                            [Drama]                   0   \n",
            "9740                                [Action, Animation]                   0   \n",
            "9741                                           [Comedy]                   0   \n",
            "\n",
            "      Action  Adventure  Animation  Children  Comedy  Crime  ...  Musical  \\\n",
            "0          0          1          1         1       1      0  ...        0   \n",
            "1          0          1          0         1       0      0  ...        0   \n",
            "2          0          0          0         0       1      0  ...        0   \n",
            "3          0          0          0         0       1      0  ...        0   \n",
            "4          0          0          0         0       1      0  ...        0   \n",
            "...      ...        ...        ...       ...     ...    ...  ...      ...   \n",
            "9737       1          0          1         0       1      0  ...        0   \n",
            "9738       0          0          1         0       1      0  ...        0   \n",
            "9739       0          0          0         0       0      0  ...        0   \n",
            "9740       1          0          1         0       0      0  ...        0   \n",
            "9741       0          0          0         0       1      0  ...        0   \n",
            "\n",
            "      Mystery  Romance  Sci-Fi  Thriller  War  Western  rating_count  \\\n",
            "0           0        0       0         0    0        0         215.0   \n",
            "1           0        0       0         0    0        0         110.0   \n",
            "2           0        1       0         0    0        0          52.0   \n",
            "3           0        1       0         0    0        0           7.0   \n",
            "4           0        0       0         0    0        0          49.0   \n",
            "...       ...      ...     ...       ...  ...      ...           ...   \n",
            "9737        0        0       0         0    0        0           1.0   \n",
            "9738        0        0       0         0    0        0           1.0   \n",
            "9739        0        0       0         0    0        0           1.0   \n",
            "9740        0        0       0         0    0        0           1.0   \n",
            "9741        0        0       0         0    0        0           1.0   \n",
            "\n",
            "      rating_count_normalized  genre_count  \n",
            "0                    0.652439            5  \n",
            "1                    0.332317            3  \n",
            "2                    0.155488            2  \n",
            "3                    0.018293            3  \n",
            "4                    0.146341            1  \n",
            "...                       ...          ...  \n",
            "9737                 0.000000            4  \n",
            "9738                 0.000000            3  \n",
            "9739                 0.000000            1  \n",
            "9740                 0.000000            2  \n",
            "9741                 0.000000            1  \n",
            "\n",
            "[9742 rows x 26 columns]\n"
          ]
        }
      ],
      "source": [
        "genre_cols = ['Action', 'Adventure', 'Animation', 'Children', 'Comedy', 'Crime', 'Documentary', 'Drama', 'Fantasy', 'Film-Noir', 'Horror', 'IMAX', 'Musical', 'Mystery', 'Romance', 'Sci-Fi', 'Thriller', 'War', 'Western']\n",
        "movies['genre_count'] = movies[genre_cols].sum(axis = 1)\n",
        "\n",
        "print(movies)"
      ]
    },
    {
      "cell_type": "markdown",
      "metadata": {
        "id": "xSWYec1dKrm8"
      },
      "source": [
        "**TAGS LENGTH**"
      ]
    },
    {
      "cell_type": "code",
      "execution_count": 28,
      "metadata": {
        "colab": {
          "base_uri": "https://localhost:8080/"
        },
        "id": "FuxyY5ywKGog",
        "outputId": "1e33e662-10e0-49d5-c214-fd877075403f"
      },
      "outputs": [
        {
          "name": "stdout",
          "output_type": "stream",
          "text": [
            "      userId  movieId               tag           timestamp  tag_length\n",
            "0          2    60756             funny 2015-10-24 19:29:54           5\n",
            "1          2    60756   Highly quotable 2015-10-24 19:29:56          15\n",
            "2          2    60756      will ferrell 2015-10-24 19:29:52          12\n",
            "3          2    89774      Boxing story 2015-10-24 19:33:27          12\n",
            "4          2    89774               MMA 2015-10-24 19:33:20           3\n",
            "...      ...      ...               ...                 ...         ...\n",
            "3678     606     7382         for katie 2007-02-11 22:46:59           9\n",
            "3679     606     7936           austere 2007-03-08 22:18:54           7\n",
            "3680     610     3265            gun fu 2017-05-03 20:39:44           6\n",
            "3681     610     3265  heroic bloodshed 2017-05-03 20:39:38          16\n",
            "3682     610   168248  Heroic Bloodshed 2017-05-03 20:44:30          16\n",
            "\n",
            "[3683 rows x 5 columns]\n"
          ]
        }
      ],
      "source": [
        "#Calculating tag length\n",
        "tags['tag_length'] = tags['tag'].apply(lambda x: len(str(x)))\n",
        "\n",
        "print(tags)"
      ]
    },
    {
      "cell_type": "markdown",
      "metadata": {
        "id": "DX_aLBYFLwpB"
      },
      "source": [
        "**DIMENSIONALITY REDUCTION**"
      ]
    },
    {
      "cell_type": "code",
      "execution_count": 29,
      "metadata": {
        "colab": {
          "base_uri": "https://localhost:8080/"
        },
        "id": "5DKB58iJOWS0",
        "outputId": "c00fb6a0-cccc-4295-945c-399e0be4c752"
      },
      "outputs": [
        {
          "name": "stdout",
          "output_type": "stream",
          "text": [
            "      movieId                                      title  \\\n",
            "0           1                           Toy Story (1995)   \n",
            "1           2                             Jumanji (1995)   \n",
            "2           3                    Grumpier Old Men (1995)   \n",
            "3           4                   Waiting to Exhale (1995)   \n",
            "4           5         Father of the Bride Part II (1995)   \n",
            "...       ...                                        ...   \n",
            "9737   193581  Black Butler: Book of the Atlantic (2017)   \n",
            "9738   193583               No Game No Life: Zero (2017)   \n",
            "9739   193585                               Flint (2017)   \n",
            "9740   193587        Bungo Stray Dogs: Dead Apple (2018)   \n",
            "9741   193609        Andrew Dice Clay: Dice Rules (1991)   \n",
            "\n",
            "                                                 genres  (no genres listed)  \\\n",
            "0     [Adventure, Animation, Children, Comedy, Fantasy]                   0   \n",
            "1                        [Adventure, Children, Fantasy]                   0   \n",
            "2                                     [Comedy, Romance]                   0   \n",
            "3                              [Comedy, Drama, Romance]                   0   \n",
            "4                                              [Comedy]                   0   \n",
            "...                                                 ...                 ...   \n",
            "9737               [Action, Animation, Comedy, Fantasy]                   0   \n",
            "9738                       [Animation, Comedy, Fantasy]                   0   \n",
            "9739                                            [Drama]                   0   \n",
            "9740                                [Action, Animation]                   0   \n",
            "9741                                           [Comedy]                   0   \n",
            "\n",
            "      Action  Adventure  Animation  Children  Comedy  Crime  ...  War  \\\n",
            "0          0          1          1         1       1      0  ...    0   \n",
            "1          0          1          0         1       0      0  ...    0   \n",
            "2          0          0          0         0       1      0  ...    0   \n",
            "3          0          0          0         0       1      0  ...    0   \n",
            "4          0          0          0         0       1      0  ...    0   \n",
            "...      ...        ...        ...       ...     ...    ...  ...  ...   \n",
            "9737       1          0          1         0       1      0  ...    0   \n",
            "9738       0          0          1         0       1      0  ...    0   \n",
            "9739       0          0          0         0       0      0  ...    0   \n",
            "9740       1          0          1         0       0      0  ...    0   \n",
            "9741       0          0          0         0       1      0  ...    0   \n",
            "\n",
            "      Western  rating_count  rating_count_normalized  genre_count  genre_pca1  \\\n",
            "0           0         215.0                 0.652439            5    1.072398   \n",
            "1           0         110.0                 0.332317            3    0.294662   \n",
            "2           0          52.0                 0.155488            2    0.825941   \n",
            "3           0           7.0                 0.018293            3    0.221074   \n",
            "4           0          49.0                 0.146341            1    0.756234   \n",
            "...       ...           ...                      ...          ...         ...   \n",
            "9737        0           1.0                 0.000000            4    0.825226   \n",
            "9738        0           1.0                 0.000000            3    0.896340   \n",
            "9739        0           1.0                 0.000000            1   -0.544021   \n",
            "9740        0           1.0                 0.000000            2    0.072078   \n",
            "9741        0           1.0                 0.000000            1    0.756234   \n",
            "\n",
            "      genre_pca2  genre_pca3  genre_pca4  genre_pca5  \n",
            "0      -0.318058    0.911843   -0.098554   -0.274141  \n",
            "1      -0.529721    0.945136   -0.457288   -0.071728  \n",
            "2       0.434466   -0.200902    0.140583    0.658694  \n",
            "3       1.004426   -0.014829    0.396487    0.512113  \n",
            "4       0.118838   -0.240798   -0.039227   -0.218452  \n",
            "...          ...         ...         ...         ...  \n",
            "9737   -0.479467    0.435215    0.437375   -0.165607  \n",
            "9738   -0.029765    0.184447   -0.153139   -0.220544  \n",
            "9739    0.408532    0.175263   -0.209090   -0.225465  \n",
            "9740   -0.679733    0.436654    0.058487   -0.086793  \n",
            "9741    0.118838   -0.240798   -0.039227   -0.218452  \n",
            "\n",
            "[9742 rows x 31 columns]\n"
          ]
        }
      ],
      "source": [
        "#Apply PCA to genre columns\n",
        "pca = PCA(n_components = 5)\n",
        "genre_pca = pca.fit_transform(movies[genre_cols])\n",
        "genre_pca_df = pd.DataFrame(genre_pca, columns = [f'genre_pca{i+1}' for i in range(5)])\n",
        "movies = pd.concat([movies.reset_index(drop = True), genre_pca_df], axis = 1)\n",
        "\n",
        "print(movies)"
      ]
    },
    {
      "cell_type": "markdown",
      "metadata": {},
      "source": [
        "**SUMMARY OF ALL DATASET**"
      ]
    },
    {
      "cell_type": "code",
      "execution_count": 30,
      "metadata": {},
      "outputs": [
        {
          "data": {
            "text/html": [
              "<div>\n",
              "<style scoped>\n",
              "    .dataframe tbody tr th:only-of-type {\n",
              "        vertical-align: middle;\n",
              "    }\n",
              "\n",
              "    .dataframe tbody tr th {\n",
              "        vertical-align: top;\n",
              "    }\n",
              "\n",
              "    .dataframe thead th {\n",
              "        text-align: right;\n",
              "    }\n",
              "</style>\n",
              "<table border=\"1\" class=\"dataframe\">\n",
              "  <thead>\n",
              "    <tr style=\"text-align: right;\">\n",
              "      <th></th>\n",
              "      <th>movieId</th>\n",
              "      <th>title</th>\n",
              "      <th>genres</th>\n",
              "      <th>(no genres listed)</th>\n",
              "      <th>Action</th>\n",
              "      <th>Adventure</th>\n",
              "      <th>Animation</th>\n",
              "      <th>Children</th>\n",
              "      <th>Comedy</th>\n",
              "      <th>Crime</th>\n",
              "      <th>...</th>\n",
              "      <th>War</th>\n",
              "      <th>Western</th>\n",
              "      <th>rating_count</th>\n",
              "      <th>rating_count_normalized</th>\n",
              "      <th>genre_count</th>\n",
              "      <th>genre_pca1</th>\n",
              "      <th>genre_pca2</th>\n",
              "      <th>genre_pca3</th>\n",
              "      <th>genre_pca4</th>\n",
              "      <th>genre_pca5</th>\n",
              "    </tr>\n",
              "  </thead>\n",
              "  <tbody>\n",
              "    <tr>\n",
              "      <th>0</th>\n",
              "      <td>1</td>\n",
              "      <td>Toy Story (1995)</td>\n",
              "      <td>[Adventure, Animation, Children, Comedy, Fantasy]</td>\n",
              "      <td>0</td>\n",
              "      <td>0</td>\n",
              "      <td>1</td>\n",
              "      <td>1</td>\n",
              "      <td>1</td>\n",
              "      <td>1</td>\n",
              "      <td>0</td>\n",
              "      <td>...</td>\n",
              "      <td>0</td>\n",
              "      <td>0</td>\n",
              "      <td>215.0</td>\n",
              "      <td>0.652439</td>\n",
              "      <td>5</td>\n",
              "      <td>1.072398</td>\n",
              "      <td>-0.318058</td>\n",
              "      <td>0.911843</td>\n",
              "      <td>-0.098554</td>\n",
              "      <td>-0.274141</td>\n",
              "    </tr>\n",
              "    <tr>\n",
              "      <th>1</th>\n",
              "      <td>2</td>\n",
              "      <td>Jumanji (1995)</td>\n",
              "      <td>[Adventure, Children, Fantasy]</td>\n",
              "      <td>0</td>\n",
              "      <td>0</td>\n",
              "      <td>1</td>\n",
              "      <td>0</td>\n",
              "      <td>1</td>\n",
              "      <td>0</td>\n",
              "      <td>0</td>\n",
              "      <td>...</td>\n",
              "      <td>0</td>\n",
              "      <td>0</td>\n",
              "      <td>110.0</td>\n",
              "      <td>0.332317</td>\n",
              "      <td>3</td>\n",
              "      <td>0.294662</td>\n",
              "      <td>-0.529721</td>\n",
              "      <td>0.945136</td>\n",
              "      <td>-0.457288</td>\n",
              "      <td>-0.071728</td>\n",
              "    </tr>\n",
              "    <tr>\n",
              "      <th>2</th>\n",
              "      <td>3</td>\n",
              "      <td>Grumpier Old Men (1995)</td>\n",
              "      <td>[Comedy, Romance]</td>\n",
              "      <td>0</td>\n",
              "      <td>0</td>\n",
              "      <td>0</td>\n",
              "      <td>0</td>\n",
              "      <td>0</td>\n",
              "      <td>1</td>\n",
              "      <td>0</td>\n",
              "      <td>...</td>\n",
              "      <td>0</td>\n",
              "      <td>0</td>\n",
              "      <td>52.0</td>\n",
              "      <td>0.155488</td>\n",
              "      <td>2</td>\n",
              "      <td>0.825941</td>\n",
              "      <td>0.434466</td>\n",
              "      <td>-0.200902</td>\n",
              "      <td>0.140583</td>\n",
              "      <td>0.658694</td>\n",
              "    </tr>\n",
              "    <tr>\n",
              "      <th>3</th>\n",
              "      <td>4</td>\n",
              "      <td>Waiting to Exhale (1995)</td>\n",
              "      <td>[Comedy, Drama, Romance]</td>\n",
              "      <td>0</td>\n",
              "      <td>0</td>\n",
              "      <td>0</td>\n",
              "      <td>0</td>\n",
              "      <td>0</td>\n",
              "      <td>1</td>\n",
              "      <td>0</td>\n",
              "      <td>...</td>\n",
              "      <td>0</td>\n",
              "      <td>0</td>\n",
              "      <td>7.0</td>\n",
              "      <td>0.018293</td>\n",
              "      <td>3</td>\n",
              "      <td>0.221074</td>\n",
              "      <td>1.004426</td>\n",
              "      <td>-0.014829</td>\n",
              "      <td>0.396487</td>\n",
              "      <td>0.512113</td>\n",
              "    </tr>\n",
              "    <tr>\n",
              "      <th>4</th>\n",
              "      <td>5</td>\n",
              "      <td>Father of the Bride Part II (1995)</td>\n",
              "      <td>[Comedy]</td>\n",
              "      <td>0</td>\n",
              "      <td>0</td>\n",
              "      <td>0</td>\n",
              "      <td>0</td>\n",
              "      <td>0</td>\n",
              "      <td>1</td>\n",
              "      <td>0</td>\n",
              "      <td>...</td>\n",
              "      <td>0</td>\n",
              "      <td>0</td>\n",
              "      <td>49.0</td>\n",
              "      <td>0.146341</td>\n",
              "      <td>1</td>\n",
              "      <td>0.756234</td>\n",
              "      <td>0.118838</td>\n",
              "      <td>-0.240798</td>\n",
              "      <td>-0.039227</td>\n",
              "      <td>-0.218452</td>\n",
              "    </tr>\n",
              "  </tbody>\n",
              "</table>\n",
              "<p>5 rows × 31 columns</p>\n",
              "</div>"
            ],
            "text/plain": [
              "   movieId                               title  \\\n",
              "0        1                    Toy Story (1995)   \n",
              "1        2                      Jumanji (1995)   \n",
              "2        3             Grumpier Old Men (1995)   \n",
              "3        4            Waiting to Exhale (1995)   \n",
              "4        5  Father of the Bride Part II (1995)   \n",
              "\n",
              "                                              genres  (no genres listed)  \\\n",
              "0  [Adventure, Animation, Children, Comedy, Fantasy]                   0   \n",
              "1                     [Adventure, Children, Fantasy]                   0   \n",
              "2                                  [Comedy, Romance]                   0   \n",
              "3                           [Comedy, Drama, Romance]                   0   \n",
              "4                                           [Comedy]                   0   \n",
              "\n",
              "   Action  Adventure  Animation  Children  Comedy  Crime  ...  War  Western  \\\n",
              "0       0          1          1         1       1      0  ...    0        0   \n",
              "1       0          1          0         1       0      0  ...    0        0   \n",
              "2       0          0          0         0       1      0  ...    0        0   \n",
              "3       0          0          0         0       1      0  ...    0        0   \n",
              "4       0          0          0         0       1      0  ...    0        0   \n",
              "\n",
              "   rating_count  rating_count_normalized  genre_count  genre_pca1  genre_pca2  \\\n",
              "0         215.0                 0.652439            5    1.072398   -0.318058   \n",
              "1         110.0                 0.332317            3    0.294662   -0.529721   \n",
              "2          52.0                 0.155488            2    0.825941    0.434466   \n",
              "3           7.0                 0.018293            3    0.221074    1.004426   \n",
              "4          49.0                 0.146341            1    0.756234    0.118838   \n",
              "\n",
              "   genre_pca3  genre_pca4  genre_pca5  \n",
              "0    0.911843   -0.098554   -0.274141  \n",
              "1    0.945136   -0.457288   -0.071728  \n",
              "2   -0.200902    0.140583    0.658694  \n",
              "3   -0.014829    0.396487    0.512113  \n",
              "4   -0.240798   -0.039227   -0.218452  \n",
              "\n",
              "[5 rows x 31 columns]"
            ]
          },
          "execution_count": 30,
          "metadata": {},
          "output_type": "execute_result"
        }
      ],
      "source": [
        "movies.head()"
      ]
    },
    {
      "cell_type": "code",
      "execution_count": 31,
      "metadata": {},
      "outputs": [
        {
          "data": {
            "text/html": [
              "<div>\n",
              "<style scoped>\n",
              "    .dataframe tbody tr th:only-of-type {\n",
              "        vertical-align: middle;\n",
              "    }\n",
              "\n",
              "    .dataframe tbody tr th {\n",
              "        vertical-align: top;\n",
              "    }\n",
              "\n",
              "    .dataframe thead th {\n",
              "        text-align: right;\n",
              "    }\n",
              "</style>\n",
              "<table border=\"1\" class=\"dataframe\">\n",
              "  <thead>\n",
              "    <tr style=\"text-align: right;\">\n",
              "      <th></th>\n",
              "      <th>userId</th>\n",
              "      <th>movieId</th>\n",
              "      <th>rating</th>\n",
              "      <th>timestamp</th>\n",
              "      <th>title</th>\n",
              "      <th>datetime</th>\n",
              "      <th>year</th>\n",
              "      <th>month</th>\n",
              "      <th>days_of_week</th>\n",
              "      <th>user_rating_count</th>\n",
              "      <th>movie_rating_count</th>\n",
              "      <th>user_activity_level</th>\n",
              "    </tr>\n",
              "  </thead>\n",
              "  <tbody>\n",
              "    <tr>\n",
              "      <th>0</th>\n",
              "      <td>1</td>\n",
              "      <td>1</td>\n",
              "      <td>4.0</td>\n",
              "      <td>2000-07-30 18:45:03</td>\n",
              "      <td>Toy Story (1995)</td>\n",
              "      <td>2000-07-30 18:45:03</td>\n",
              "      <td>2000</td>\n",
              "      <td>7</td>\n",
              "      <td>6</td>\n",
              "      <td>232</td>\n",
              "      <td>215</td>\n",
              "      <td>High</td>\n",
              "    </tr>\n",
              "    <tr>\n",
              "      <th>1</th>\n",
              "      <td>1</td>\n",
              "      <td>3</td>\n",
              "      <td>4.0</td>\n",
              "      <td>2000-07-30 18:20:47</td>\n",
              "      <td>Grumpier Old Men (1995)</td>\n",
              "      <td>2000-07-30 18:20:47</td>\n",
              "      <td>2000</td>\n",
              "      <td>7</td>\n",
              "      <td>6</td>\n",
              "      <td>232</td>\n",
              "      <td>52</td>\n",
              "      <td>High</td>\n",
              "    </tr>\n",
              "    <tr>\n",
              "      <th>2</th>\n",
              "      <td>1</td>\n",
              "      <td>6</td>\n",
              "      <td>4.0</td>\n",
              "      <td>2000-07-30 18:37:04</td>\n",
              "      <td>Heat (1995)</td>\n",
              "      <td>2000-07-30 18:37:04</td>\n",
              "      <td>2000</td>\n",
              "      <td>7</td>\n",
              "      <td>6</td>\n",
              "      <td>232</td>\n",
              "      <td>102</td>\n",
              "      <td>High</td>\n",
              "    </tr>\n",
              "    <tr>\n",
              "      <th>3</th>\n",
              "      <td>1</td>\n",
              "      <td>47</td>\n",
              "      <td>5.0</td>\n",
              "      <td>2000-07-30 19:03:35</td>\n",
              "      <td>Seven (a.k.a. Se7en) (1995)</td>\n",
              "      <td>2000-07-30 19:03:35</td>\n",
              "      <td>2000</td>\n",
              "      <td>7</td>\n",
              "      <td>6</td>\n",
              "      <td>232</td>\n",
              "      <td>203</td>\n",
              "      <td>High</td>\n",
              "    </tr>\n",
              "    <tr>\n",
              "      <th>4</th>\n",
              "      <td>1</td>\n",
              "      <td>50</td>\n",
              "      <td>5.0</td>\n",
              "      <td>2000-07-30 18:48:51</td>\n",
              "      <td>Usual Suspects, The (1995)</td>\n",
              "      <td>2000-07-30 18:48:51</td>\n",
              "      <td>2000</td>\n",
              "      <td>7</td>\n",
              "      <td>6</td>\n",
              "      <td>232</td>\n",
              "      <td>204</td>\n",
              "      <td>High</td>\n",
              "    </tr>\n",
              "  </tbody>\n",
              "</table>\n",
              "</div>"
            ],
            "text/plain": [
              "   userId  movieId  rating           timestamp                        title  \\\n",
              "0       1        1     4.0 2000-07-30 18:45:03             Toy Story (1995)   \n",
              "1       1        3     4.0 2000-07-30 18:20:47      Grumpier Old Men (1995)   \n",
              "2       1        6     4.0 2000-07-30 18:37:04                  Heat (1995)   \n",
              "3       1       47     5.0 2000-07-30 19:03:35  Seven (a.k.a. Se7en) (1995)   \n",
              "4       1       50     5.0 2000-07-30 18:48:51   Usual Suspects, The (1995)   \n",
              "\n",
              "             datetime  year  month  days_of_week  user_rating_count  \\\n",
              "0 2000-07-30 18:45:03  2000      7             6                232   \n",
              "1 2000-07-30 18:20:47  2000      7             6                232   \n",
              "2 2000-07-30 18:37:04  2000      7             6                232   \n",
              "3 2000-07-30 19:03:35  2000      7             6                232   \n",
              "4 2000-07-30 18:48:51  2000      7             6                232   \n",
              "\n",
              "   movie_rating_count user_activity_level  \n",
              "0                 215                High  \n",
              "1                  52                High  \n",
              "2                 102                High  \n",
              "3                 203                High  \n",
              "4                 204                High  "
            ]
          },
          "execution_count": 31,
          "metadata": {},
          "output_type": "execute_result"
        }
      ],
      "source": [
        "ratings.head()"
      ]
    },
    {
      "cell_type": "markdown",
      "metadata": {},
      "source": [
        "**BAYESIAN AVERAGE**\n",
        "\n",
        "to calculate the popularity of the movies among users"
      ]
    },
    {
      "cell_type": "code",
      "execution_count": 32,
      "metadata": {},
      "outputs": [
        {
          "name": "stdout",
          "output_type": "stream",
          "text": [
            "   movieId  rating\n",
            "0        1     4.0\n",
            "1        3     4.0\n",
            "2        6     4.0\n",
            "3       47     5.0\n",
            "4       50     5.0\n",
            "         count      mean\n",
            "movieId                 \n",
            "1          215  3.920930\n",
            "2          110  3.431818\n",
            "3           52  3.259615\n",
            "4            7  2.357143\n",
            "5           49  3.071429\n"
          ]
        }
      ],
      "source": [
        "movie_stats = ratings[['movieId' , 'rating']]\n",
        "print(movie_stats.head())\n",
        "movie_stats = ratings.groupby('movieId')['rating'].agg(['count' , 'mean'])\n",
        "print(movie_stats.head())\n"
      ]
    },
    {
      "cell_type": "markdown",
      "metadata": {},
      "source": [
        "**Defining a routine to calculate the bayesian average**"
      ]
    },
    {
      "cell_type": "code",
      "execution_count": 33,
      "metadata": {},
      "outputs": [
        {
          "name": "stdout",
          "output_type": "stream",
          "text": [
            "Average number of ratings for a given movie : 10.37\n",
            "Average rating for a given movie : 3.26\n"
          ]
        }
      ],
      "source": [
        "C = movie_stats['count'].mean()\n",
        "m = movie_stats['mean'].mean()\n",
        "\n",
        "print(f\"Average number of ratings for a given movie : {C:.2f}\")\n",
        "print(f\"Average rating for a given movie : {m:.2f}\")\n",
        "\n",
        "def bay_avg(rating):\n",
        "    bayesian_avg = (C*m+rating.sum()) / (C + rating.count())\n",
        "    return round(bayesian_avg , 3)"
      ]
    },
    {
      "cell_type": "code",
      "execution_count": 34,
      "metadata": {},
      "outputs": [
        {
          "data": {
            "text/html": [
              "<div>\n",
              "<style scoped>\n",
              "    .dataframe tbody tr th:only-of-type {\n",
              "        vertical-align: middle;\n",
              "    }\n",
              "\n",
              "    .dataframe tbody tr th {\n",
              "        vertical-align: top;\n",
              "    }\n",
              "\n",
              "    .dataframe thead th {\n",
              "        text-align: right;\n",
              "    }\n",
              "</style>\n",
              "<table border=\"1\" class=\"dataframe\">\n",
              "  <thead>\n",
              "    <tr style=\"text-align: right;\">\n",
              "      <th></th>\n",
              "      <th>movieId</th>\n",
              "      <th>count</th>\n",
              "      <th>mean</th>\n",
              "      <th>bayesian_avg</th>\n",
              "    </tr>\n",
              "  </thead>\n",
              "  <tbody>\n",
              "    <tr>\n",
              "      <th>0</th>\n",
              "      <td>1</td>\n",
              "      <td>215</td>\n",
              "      <td>3.920930</td>\n",
              "      <td>3.891</td>\n",
              "    </tr>\n",
              "    <tr>\n",
              "      <th>1</th>\n",
              "      <td>2</td>\n",
              "      <td>110</td>\n",
              "      <td>3.431818</td>\n",
              "      <td>3.417</td>\n",
              "    </tr>\n",
              "    <tr>\n",
              "      <th>2</th>\n",
              "      <td>3</td>\n",
              "      <td>52</td>\n",
              "      <td>3.259615</td>\n",
              "      <td>3.260</td>\n",
              "    </tr>\n",
              "    <tr>\n",
              "      <th>3</th>\n",
              "      <td>4</td>\n",
              "      <td>7</td>\n",
              "      <td>2.357143</td>\n",
              "      <td>2.898</td>\n",
              "    </tr>\n",
              "    <tr>\n",
              "      <th>4</th>\n",
              "      <td>5</td>\n",
              "      <td>49</td>\n",
              "      <td>3.071429</td>\n",
              "      <td>3.105</td>\n",
              "    </tr>\n",
              "    <tr>\n",
              "      <th>...</th>\n",
              "      <td>...</td>\n",
              "      <td>...</td>\n",
              "      <td>...</td>\n",
              "      <td>...</td>\n",
              "    </tr>\n",
              "    <tr>\n",
              "      <th>9719</th>\n",
              "      <td>193581</td>\n",
              "      <td>1</td>\n",
              "      <td>4.000000</td>\n",
              "      <td>3.327</td>\n",
              "    </tr>\n",
              "    <tr>\n",
              "      <th>9720</th>\n",
              "      <td>193583</td>\n",
              "      <td>1</td>\n",
              "      <td>3.500000</td>\n",
              "      <td>3.283</td>\n",
              "    </tr>\n",
              "    <tr>\n",
              "      <th>9721</th>\n",
              "      <td>193585</td>\n",
              "      <td>1</td>\n",
              "      <td>3.500000</td>\n",
              "      <td>3.283</td>\n",
              "    </tr>\n",
              "    <tr>\n",
              "      <th>9722</th>\n",
              "      <td>193587</td>\n",
              "      <td>1</td>\n",
              "      <td>3.500000</td>\n",
              "      <td>3.283</td>\n",
              "    </tr>\n",
              "    <tr>\n",
              "      <th>9723</th>\n",
              "      <td>193609</td>\n",
              "      <td>1</td>\n",
              "      <td>4.000000</td>\n",
              "      <td>3.327</td>\n",
              "    </tr>\n",
              "  </tbody>\n",
              "</table>\n",
              "<p>9724 rows × 4 columns</p>\n",
              "</div>"
            ],
            "text/plain": [
              "      movieId  count      mean  bayesian_avg\n",
              "0           1    215  3.920930         3.891\n",
              "1           2    110  3.431818         3.417\n",
              "2           3     52  3.259615         3.260\n",
              "3           4      7  2.357143         2.898\n",
              "4           5     49  3.071429         3.105\n",
              "...       ...    ...       ...           ...\n",
              "9719   193581      1  4.000000         3.327\n",
              "9720   193583      1  3.500000         3.283\n",
              "9721   193585      1  3.500000         3.283\n",
              "9722   193587      1  3.500000         3.283\n",
              "9723   193609      1  4.000000         3.327\n",
              "\n",
              "[9724 rows x 4 columns]"
            ]
          },
          "execution_count": 34,
          "metadata": {},
          "output_type": "execute_result"
        }
      ],
      "source": [
        "bayesian_avg_ratings = ratings.groupby('movieId')['rating'].agg(bay_avg).reset_index()\n",
        "bayesian_avg_ratings.columns = ['movieId' , 'bayesian_avg']\n",
        "movie_stats = movie_stats.merge(bayesian_avg_ratings , on = 'movieId')\n",
        "movie_stats"
      ]
    },
    {
      "cell_type": "markdown",
      "metadata": {},
      "source": [
        "**COLLABORATIVE FILTERING**"
      ]
    },
    {
      "cell_type": "markdown",
      "metadata": {},
      "source": [
        "Defining a sparse matrix to map user with ratings"
      ]
    },
    {
      "cell_type": "code",
      "execution_count": 35,
      "metadata": {},
      "outputs": [],
      "source": [
        "from scipy.sparse import csr_matrix\n",
        "\n",
        "def create_X(df):\n",
        "  \"\"\"\n",
        "  Generates a sparse matrix from ratings dataframe.\n",
        "\n",
        "  Args:\n",
        "    df: pandas dataframe containing 3 columns (userId , movieId , rating)\n",
        "\n",
        "  Returns:\n",
        "    X: Sparse matrix\n",
        "    user_mapper: dict that maps user id's to user inidices\n",
        "    user_inv_mappter: dict that maps user indices to user id's\n",
        "    movie_mapper: dict that maps movie id's to movie indices\n",
        "    movie_inv_mapper: dict that maps movie indices to movie id's\n",
        "  \"\"\"\n",
        "\n",
        "  M = df['userId'].nunique()\n",
        "  N = df['movieId'].nunique()\n",
        "\n",
        "  user_mapper = dict(zip(np.unique(df[\"userId\"]) , list(range(M))))\n",
        "  movie_mapper = dict(zip(np.unique(df[\"movieId\"]) , list(range(N))))\n",
        "\n",
        "  user_inv_mapper = dict(zip(list(range(M)) , np.unique(df[\"userId\"])))\n",
        "  movie_inv_mapper = dict(zip(list(range(N)) , np.unique(df[\"movieId\"])))\n",
        "\n",
        "  user_index = [user_mapper[i] for i in df['userId']]\n",
        "  item_index = [movie_mapper[i] for i in df['movieId']]\n",
        "\n",
        "  X = csr_matrix((df[\"rating\"] , (user_index , item_index)) , shape = (M , N))\n",
        "\n",
        "  return X , user_mapper , movie_mapper , user_inv_mapper , movie_inv_mapper\n",
        "\n"
      ]
    },
    {
      "cell_type": "code",
      "execution_count": 36,
      "metadata": {},
      "outputs": [],
      "source": [
        "X , user_mapper , movie_mapper , user_inv_mapper , movie_inv_mapper = create_X(ratings)"
      ]
    },
    {
      "cell_type": "code",
      "execution_count": 37,
      "metadata": {},
      "outputs": [
        {
          "data": {
            "text/plain": [
              "(610, 9724)"
            ]
          },
          "execution_count": 37,
          "metadata": {},
          "output_type": "execute_result"
        }
      ],
      "source": [
        "X.shape"
      ]
    },
    {
      "cell_type": "markdown",
      "metadata": {},
      "source": [
        "Evaluating Sparsity"
      ]
    },
    {
      "cell_type": "code",
      "execution_count": 38,
      "metadata": {},
      "outputs": [
        {
          "name": "stdout",
          "output_type": "stream",
          "text": [
            "Matrix sparsity : 1.7%\n"
          ]
        }
      ],
      "source": [
        "n_total = X.shape[0]*X.shape[1]\n",
        "n_ratings = X.nnz\n",
        "sparsity = n_ratings/n_total\n",
        "print(f\"Matrix sparsity : {round(sparsity*100 , 2)}%\")"
      ]
    },
    {
      "cell_type": "markdown",
      "metadata": {},
      "source": [
        "**Item - Item Recommendations with k-Nearest Neighbors**"
      ]
    },
    {
      "cell_type": "code",
      "execution_count": 39,
      "metadata": {},
      "outputs": [],
      "source": [
        "from sklearn.neighbors import NearestNeighbors\n",
        "\n",
        "def find_similar_movies_collaborative(movie_id , X , movie_mapper , movie_inv_mapper , k , metric = 'cosine'):\n",
        "  \"\"\"\n",
        "  Finds k-nearest neighbours for a given movie id.\n",
        "\n",
        "  Args:\n",
        "    movie_id: id of the movie of interest.\n",
        "    X: user-item utility matrix.\n",
        "    k: number of similar movies to retrieve.\n",
        "    metric: distance metric for kNN calculations\n",
        "\n",
        "  Output:\n",
        "    Returns list of k similar movie ID's\n",
        "  \"\"\"\n",
        "\n",
        "  X = X.T\n",
        "  neighbour_ids = []\n",
        "\n",
        "  movie_ind = movie_mapper[movie_id]\n",
        "  movie_vec = X[movie_ind]\n",
        "\n",
        "  # Ensure movie_vec is in the correct shape\n",
        "  if isinstance(movie_vec , (np.ndarray)):\n",
        "    movie_vec = movie_vec.reshape(1 , -1)\n",
        "\n",
        "  # use k+1 since kNN output includes the movieId of interest\n",
        "  kNN = NearestNeighbors(n_neighbors = k + 1 , algorithm = \"brute\" , metric = metric)\n",
        "  kNN.fit(X)\n",
        "  neighbour = kNN.kneighbors(movie_vec , return_distance = False)\n",
        "\n",
        "  for i in range(0 , k):\n",
        "    n = neighbour.item(i)\n",
        "    neighbour_ids.append(movie_inv_mapper[n])\n",
        "\n",
        "  neighbour_ids.pop(0)\n",
        "  return neighbour_ids"
      ]
    },
    {
      "cell_type": "code",
      "execution_count": 40,
      "metadata": {},
      "outputs": [
        {
          "data": {
            "text/plain": [
              "[3114, 480, 780, 260, 356, 364, 1210, 648, 1265]"
            ]
          },
          "execution_count": 40,
          "metadata": {},
          "output_type": "execute_result"
        }
      ],
      "source": [
        "# Testing our model gives output\n",
        "similar_movies = find_similar_movies_collaborative(1 , X , movie_mapper , movie_inv_mapper , k = 10)\n",
        "similar_movies"
      ]
    },
    {
      "cell_type": "code",
      "execution_count": 41,
      "metadata": {},
      "outputs": [
        {
          "name": "stdout",
          "output_type": "stream",
          "text": [
            "Because you watched Toy Story (1995):\n",
            "Toy Story 2 (1999)\n",
            "Bug's Life, A (1998)\n",
            "Groundhog Day (1993)\n",
            "Nutty Professor, The (1996)\n",
            "Willy Wonka & the Chocolate Factory (1971)\n",
            "Mission: Impossible (1996)\n",
            "Babe (1995)\n",
            "Monsters, Inc. (2001)\n",
            "Toy Story 3 (2010)\n"
          ]
        }
      ],
      "source": [
        "# mapping movieId with their corresponding title\n",
        "\n",
        "movie_titles = dict(zip(movies['movieId'] , movies['title']))\n",
        "\n",
        "movie_id = 1\n",
        "\n",
        "similar_movies = find_similar_movies_collaborative(movie_id , X , movie_mapper , movie_inv_mapper , metric = 'manhattan' , k = 10)\n",
        "movie_title = movie_titles[movie_id]\n",
        "\n",
        "print(f\"Because you watched {movie_title}:\")\n",
        "for i in similar_movies:\n",
        "  print(movie_titles[i])"
      ]
    },
    {
      "cell_type": "markdown",
      "metadata": {},
      "source": [
        "**CONTENT-BASED FILTERING**"
      ]
    },
    {
      "cell_type": "code",
      "execution_count": 42,
      "metadata": {},
      "outputs": [
        {
          "data": {
            "text/html": [
              "<div>\n",
              "<style scoped>\n",
              "    .dataframe tbody tr th:only-of-type {\n",
              "        vertical-align: middle;\n",
              "    }\n",
              "\n",
              "    .dataframe tbody tr th {\n",
              "        vertical-align: top;\n",
              "    }\n",
              "\n",
              "    .dataframe thead th {\n",
              "        text-align: right;\n",
              "    }\n",
              "</style>\n",
              "<table border=\"1\" class=\"dataframe\">\n",
              "  <thead>\n",
              "    <tr style=\"text-align: right;\">\n",
              "      <th></th>\n",
              "      <th>Action</th>\n",
              "      <th>Adventure</th>\n",
              "      <th>Animation</th>\n",
              "      <th>Children</th>\n",
              "      <th>Comedy</th>\n",
              "      <th>Crime</th>\n",
              "      <th>Documentary</th>\n",
              "      <th>Drama</th>\n",
              "      <th>Fantasy</th>\n",
              "      <th>Film-Noir</th>\n",
              "      <th>Horror</th>\n",
              "      <th>IMAX</th>\n",
              "      <th>Musical</th>\n",
              "      <th>Mystery</th>\n",
              "      <th>Romance</th>\n",
              "      <th>Sci-Fi</th>\n",
              "      <th>Thriller</th>\n",
              "      <th>War</th>\n",
              "      <th>Western</th>\n",
              "    </tr>\n",
              "  </thead>\n",
              "  <tbody>\n",
              "    <tr>\n",
              "      <th>0</th>\n",
              "      <td>0</td>\n",
              "      <td>1</td>\n",
              "      <td>1</td>\n",
              "      <td>1</td>\n",
              "      <td>1</td>\n",
              "      <td>0</td>\n",
              "      <td>0</td>\n",
              "      <td>0</td>\n",
              "      <td>1</td>\n",
              "      <td>0</td>\n",
              "      <td>0</td>\n",
              "      <td>0</td>\n",
              "      <td>0</td>\n",
              "      <td>0</td>\n",
              "      <td>0</td>\n",
              "      <td>0</td>\n",
              "      <td>0</td>\n",
              "      <td>0</td>\n",
              "      <td>0</td>\n",
              "    </tr>\n",
              "    <tr>\n",
              "      <th>1</th>\n",
              "      <td>0</td>\n",
              "      <td>1</td>\n",
              "      <td>0</td>\n",
              "      <td>1</td>\n",
              "      <td>0</td>\n",
              "      <td>0</td>\n",
              "      <td>0</td>\n",
              "      <td>0</td>\n",
              "      <td>1</td>\n",
              "      <td>0</td>\n",
              "      <td>0</td>\n",
              "      <td>0</td>\n",
              "      <td>0</td>\n",
              "      <td>0</td>\n",
              "      <td>0</td>\n",
              "      <td>0</td>\n",
              "      <td>0</td>\n",
              "      <td>0</td>\n",
              "      <td>0</td>\n",
              "    </tr>\n",
              "    <tr>\n",
              "      <th>2</th>\n",
              "      <td>0</td>\n",
              "      <td>0</td>\n",
              "      <td>0</td>\n",
              "      <td>0</td>\n",
              "      <td>1</td>\n",
              "      <td>0</td>\n",
              "      <td>0</td>\n",
              "      <td>0</td>\n",
              "      <td>0</td>\n",
              "      <td>0</td>\n",
              "      <td>0</td>\n",
              "      <td>0</td>\n",
              "      <td>0</td>\n",
              "      <td>0</td>\n",
              "      <td>1</td>\n",
              "      <td>0</td>\n",
              "      <td>0</td>\n",
              "      <td>0</td>\n",
              "      <td>0</td>\n",
              "    </tr>\n",
              "    <tr>\n",
              "      <th>3</th>\n",
              "      <td>0</td>\n",
              "      <td>0</td>\n",
              "      <td>0</td>\n",
              "      <td>0</td>\n",
              "      <td>1</td>\n",
              "      <td>0</td>\n",
              "      <td>0</td>\n",
              "      <td>1</td>\n",
              "      <td>0</td>\n",
              "      <td>0</td>\n",
              "      <td>0</td>\n",
              "      <td>0</td>\n",
              "      <td>0</td>\n",
              "      <td>0</td>\n",
              "      <td>1</td>\n",
              "      <td>0</td>\n",
              "      <td>0</td>\n",
              "      <td>0</td>\n",
              "      <td>0</td>\n",
              "    </tr>\n",
              "    <tr>\n",
              "      <th>4</th>\n",
              "      <td>0</td>\n",
              "      <td>0</td>\n",
              "      <td>0</td>\n",
              "      <td>0</td>\n",
              "      <td>1</td>\n",
              "      <td>0</td>\n",
              "      <td>0</td>\n",
              "      <td>0</td>\n",
              "      <td>0</td>\n",
              "      <td>0</td>\n",
              "      <td>0</td>\n",
              "      <td>0</td>\n",
              "      <td>0</td>\n",
              "      <td>0</td>\n",
              "      <td>0</td>\n",
              "      <td>0</td>\n",
              "      <td>0</td>\n",
              "      <td>0</td>\n",
              "      <td>0</td>\n",
              "    </tr>\n",
              "  </tbody>\n",
              "</table>\n",
              "</div>"
            ],
            "text/plain": [
              "   Action  Adventure  Animation  Children  Comedy  Crime  Documentary  Drama  \\\n",
              "0       0          1          1         1       1      0            0      0   \n",
              "1       0          1          0         1       0      0            0      0   \n",
              "2       0          0          0         0       1      0            0      0   \n",
              "3       0          0          0         0       1      0            0      1   \n",
              "4       0          0          0         0       1      0            0      0   \n",
              "\n",
              "   Fantasy  Film-Noir  Horror  IMAX  Musical  Mystery  Romance  Sci-Fi  \\\n",
              "0        1          0       0     0        0        0        0       0   \n",
              "1        1          0       0     0        0        0        0       0   \n",
              "2        0          0       0     0        0        0        1       0   \n",
              "3        0          0       0     0        0        0        1       0   \n",
              "4        0          0       0     0        0        0        0       0   \n",
              "\n",
              "   Thriller  War  Western  \n",
              "0         0    0        0  \n",
              "1         0    0        0  \n",
              "2         0    0        0  \n",
              "3         0    0        0  \n",
              "4         0    0        0  "
            ]
          },
          "execution_count": 42,
          "metadata": {},
          "output_type": "execute_result"
        }
      ],
      "source": [
        "movies_genres = movies.drop(columns = ['(no genres listed)' , 'movieId' , 'title' , 'genres' , 'rating_count' , 'rating_count_normalized' , 'genre_count' , 'genre_pca1' ,'genre_pca2' , 'genre_pca3' , 'genre_pca4' , 'genre_pca5'])\n",
        "movies_genres.head()"
      ]
    },
    {
      "cell_type": "code",
      "execution_count": 43,
      "metadata": {},
      "outputs": [
        {
          "name": "stdout",
          "output_type": "stream",
          "text": [
            "Dimensions of our genres cosine similarity matrix : (9742, 9742)\n"
          ]
        }
      ],
      "source": [
        "from sklearn.metrics.pairwise import cosine_similarity\n",
        "\n",
        "cosine_sim = cosine_similarity(movies_genres , movies_genres)\n",
        "print(f\"Dimensions of our genres cosine similarity matrix : {cosine_sim.shape}\")"
      ]
    },
    {
      "cell_type": "markdown",
      "metadata": {},
      "source": [
        "Before further proceeding the content based filtering, let's deal with the issues when we gave the name of the movie with misspelled"
      ]
    },
    {
      "cell_type": "markdown",
      "metadata": {},
      "source": [
        "So, let's define a function which gives the correct title name , even if we gave wrong name"
      ]
    },
    {
      "cell_type": "code",
      "execution_count": 44,
      "metadata": {},
      "outputs": [
        {
          "name": "stderr",
          "output_type": "stream",
          "text": [
            "c:\\Users\\Gokul\\anaconda3\\Lib\\site-packages\\fuzzywuzzy\\fuzz.py:11: UserWarning: Using slow pure-python SequenceMatcher. Install python-Levenshtein to remove this warning\n",
            "  warnings.warn('Using slow pure-python SequenceMatcher. Install python-Levenshtein to remove this warning')\n"
          ]
        }
      ],
      "source": [
        "\n",
        "from fuzzywuzzy import process\n",
        "\n",
        "def movie_finder(title):\n",
        "  all_titles = movies['title'].tolist()\n",
        "  closest_match = process.extractOne(title , all_titles)\n",
        "  return closest_match[0]"
      ]
    },
    {
      "cell_type": "code",
      "execution_count": null,
      "metadata": {},
      "outputs": [],
      "source": [
        "def find_similar_movie_content_based(movie_title , n_recommendations):\n",
        "    title = movie_finder(movie_title)\n",
        "\n",
        "    movie_idx = dict(zip(movies['title'] , list(movies.index)))\n",
        "    idx = movie_idx[title]\n",
        "\n",
        "    sim_scores = list(enumerate(cosine_sim[idx]))\n",
        "    sim_scores = sorted(sim_scores , key = lambda x : x[1] , reverse = True)\n",
        "    sim_scores = sim_scores[1 : (n_recommendations + 1)]\n",
        "    similar_movies = [i[0] for i in sim_scores]\n",
        "\n",
        "    result = movies['title'].iloc[similar_movies]\n",
        "    return result"
      ]
    },
    {
      "cell_type": "code",
      "execution_count": 46,
      "metadata": {},
      "outputs": [
        {
          "data": {
            "text/plain": [
              "53                     Indian in the Cupboard, The (1995)\n",
              "109                     NeverEnding Story III, The (1994)\n",
              "767                       Escape to Witch Mountain (1975)\n",
              "1514            Darby O'Gill and the Little People (1959)\n",
              "1556                                  Return to Oz (1985)\n",
              "1617                        NeverEnding Story, The (1984)\n",
              "1618    NeverEnding Story II: The Next Chapter, The (1...\n",
              "1799                        Santa Claus: The Movie (1985)\n",
              "3574    Harry Potter and the Sorcerer's Stone (a.k.a. ...\n",
              "6075    Chronicles of Narnia: The Lion, the Witch and ...\n",
              "Name: title, dtype: object"
            ]
          },
          "execution_count": 46,
          "metadata": {},
          "output_type": "execute_result"
        }
      ],
      "source": [
        "content_based = find_similar_movie_content_based('juminji' , 10)\n",
        "content_based"
      ]
    },
    {
      "cell_type": "markdown",
      "metadata": {},
      "source": [
        "**COMBINING TMDB AND MOVIE TITLES**"
      ]
    },
    {
      "cell_type": "code",
      "execution_count": 67,
      "metadata": {},
      "outputs": [
        {
          "data": {
            "text/html": [
              "<div>\n",
              "<style scoped>\n",
              "    .dataframe tbody tr th:only-of-type {\n",
              "        vertical-align: middle;\n",
              "    }\n",
              "\n",
              "    .dataframe tbody tr th {\n",
              "        vertical-align: top;\n",
              "    }\n",
              "\n",
              "    .dataframe thead th {\n",
              "        text-align: right;\n",
              "    }\n",
              "</style>\n",
              "<table border=\"1\" class=\"dataframe\">\n",
              "  <thead>\n",
              "    <tr style=\"text-align: right;\">\n",
              "      <th></th>\n",
              "      <th>movieId</th>\n",
              "      <th>imdbId</th>\n",
              "      <th>tmdbId</th>\n",
              "    </tr>\n",
              "  </thead>\n",
              "  <tbody>\n",
              "    <tr>\n",
              "      <th>0</th>\n",
              "      <td>1</td>\n",
              "      <td>114709</td>\n",
              "      <td>862.0</td>\n",
              "    </tr>\n",
              "    <tr>\n",
              "      <th>1</th>\n",
              "      <td>2</td>\n",
              "      <td>113497</td>\n",
              "      <td>8844.0</td>\n",
              "    </tr>\n",
              "    <tr>\n",
              "      <th>2</th>\n",
              "      <td>3</td>\n",
              "      <td>113228</td>\n",
              "      <td>15602.0</td>\n",
              "    </tr>\n",
              "    <tr>\n",
              "      <th>3</th>\n",
              "      <td>4</td>\n",
              "      <td>114885</td>\n",
              "      <td>31357.0</td>\n",
              "    </tr>\n",
              "    <tr>\n",
              "      <th>4</th>\n",
              "      <td>5</td>\n",
              "      <td>113041</td>\n",
              "      <td>11862.0</td>\n",
              "    </tr>\n",
              "  </tbody>\n",
              "</table>\n",
              "</div>"
            ],
            "text/plain": [
              "   movieId  imdbId   tmdbId\n",
              "0        1  114709    862.0\n",
              "1        2  113497   8844.0\n",
              "2        3  113228  15602.0\n",
              "3        4  114885  31357.0\n",
              "4        5  113041  11862.0"
            ]
          },
          "execution_count": 67,
          "metadata": {},
          "output_type": "execute_result"
        }
      ],
      "source": [
        "link_dataset = pd.read_csv(\"links.csv\");\n",
        "link_dataset.head()\n",
        "\n"
      ]
    },
    {
      "cell_type": "code",
      "execution_count": 106,
      "metadata": {},
      "outputs": [],
      "source": [
        "def index_to_tmdb(index):\n",
        "    match = link_dataset[link_dataset['movieId'] == index]['tmdbId']\n",
        "    if not match.empty:\n",
        "        return int(match.iloc[0])\n",
        "    else:\n",
        "        return None \n",
        "\n"
      ]
    },
    {
      "cell_type": "code",
      "execution_count": 107,
      "metadata": {},
      "outputs": [
        {
          "name": "stdout",
          "output_type": "stream",
          "text": [
            "8844\n"
          ]
        }
      ],
      "source": [
        "print(index_to_tmdb(2))"
      ]
    },
    {
      "cell_type": "code",
      "execution_count": 108,
      "metadata": {},
      "outputs": [],
      "source": [
        "def tmdb_list_collaborative(title_list):\n",
        "    tmdb_list = []\n",
        "    for i in range(0 , len(title_list)):\n",
        "        tmdb_list.append(index_to_tmdb(title_list[i]))\n",
        "    return tmdb_list\n"
      ]
    },
    {
      "cell_type": "code",
      "execution_count": 109,
      "metadata": {},
      "outputs": [
        {
          "data": {
            "text/plain": [
              "[863, 9487, 137, 9327, 252, 954, 9598, 585, 10193]"
            ]
          },
          "execution_count": 109,
          "metadata": {},
          "output_type": "execute_result"
        }
      ],
      "source": [
        "tmdb_list_collaborative(similar_movies)"
      ]
    },
    {
      "cell_type": "code",
      "execution_count": null,
      "metadata": {},
      "outputs": [
        {
          "data": {
            "text/plain": [
              "pandas.core.series.Series"
            ]
          },
          "execution_count": 84,
          "metadata": {},
          "output_type": "execute_result"
        }
      ],
      "source": []
    },
    {
      "cell_type": "code",
      "execution_count": null,
      "metadata": {},
      "outputs": [],
      "source": []
    }
  ],
  "metadata": {
    "colab": {
      "provenance": []
    },
    "kernelspec": {
      "display_name": "base",
      "language": "python",
      "name": "python3"
    },
    "language_info": {
      "codemirror_mode": {
        "name": "ipython",
        "version": 3
      },
      "file_extension": ".py",
      "mimetype": "text/x-python",
      "name": "python",
      "nbconvert_exporter": "python",
      "pygments_lexer": "ipython3",
      "version": "3.12.7"
    }
  },
  "nbformat": 4,
  "nbformat_minor": 0
}
